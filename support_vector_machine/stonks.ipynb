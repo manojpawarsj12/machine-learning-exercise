{
 "cells": [
  {
   "cell_type": "code",
   "execution_count": 1,
   "metadata": {},
   "outputs": [],
   "source": [
    "import numpy as np\n",
    "import pandas as pd\n",
    "from sklearn.svm import SVR\n",
    "from sklearn.model_selection import train_test_split\n",
    "from sklearn.metrics import mean_squared_error\n",
    "import matplotlib.pyplot as plt\n",
    "from math import sqrt\n",
    "from IPython.display import Image"
   ]
  },
  {
   "cell_type": "code",
   "execution_count": 2,
   "metadata": {},
   "outputs": [
    {
     "data": {
      "text/html": [
       "<div>\n",
       "<style scoped>\n",
       "    .dataframe tbody tr th:only-of-type {\n",
       "        vertical-align: middle;\n",
       "    }\n",
       "\n",
       "    .dataframe tbody tr th {\n",
       "        vertical-align: top;\n",
       "    }\n",
       "\n",
       "    .dataframe thead th {\n",
       "        text-align: right;\n",
       "    }\n",
       "</style>\n",
       "<table border=\"1\" class=\"dataframe\">\n",
       "  <thead>\n",
       "    <tr style=\"text-align: right;\">\n",
       "      <th></th>\n",
       "      <th>Date</th>\n",
       "      <th>Open</th>\n",
       "      <th>High</th>\n",
       "      <th>Low</th>\n",
       "      <th>Close</th>\n",
       "      <th>Adj Close</th>\n",
       "      <th>Volume</th>\n",
       "    </tr>\n",
       "  </thead>\n",
       "  <tbody>\n",
       "    <tr>\n",
       "      <th>0</th>\n",
       "      <td>2018-11-23</td>\n",
       "      <td>174.940002</td>\n",
       "      <td>176.600006</td>\n",
       "      <td>172.100006</td>\n",
       "      <td>172.289993</td>\n",
       "      <td>169.739655</td>\n",
       "      <td>23624000</td>\n",
       "    </tr>\n",
       "    <tr>\n",
       "      <th>1</th>\n",
       "      <td>2018-11-26</td>\n",
       "      <td>174.240005</td>\n",
       "      <td>174.949997</td>\n",
       "      <td>170.259995</td>\n",
       "      <td>174.619995</td>\n",
       "      <td>172.035172</td>\n",
       "      <td>44998500</td>\n",
       "    </tr>\n",
       "    <tr>\n",
       "      <th>2</th>\n",
       "      <td>2018-11-27</td>\n",
       "      <td>171.509995</td>\n",
       "      <td>174.770004</td>\n",
       "      <td>170.880005</td>\n",
       "      <td>174.240005</td>\n",
       "      <td>171.660797</td>\n",
       "      <td>41387400</td>\n",
       "    </tr>\n",
       "    <tr>\n",
       "      <th>3</th>\n",
       "      <td>2018-11-28</td>\n",
       "      <td>176.729996</td>\n",
       "      <td>181.289993</td>\n",
       "      <td>174.929993</td>\n",
       "      <td>180.940002</td>\n",
       "      <td>178.261627</td>\n",
       "      <td>46062500</td>\n",
       "    </tr>\n",
       "    <tr>\n",
       "      <th>4</th>\n",
       "      <td>2018-11-29</td>\n",
       "      <td>182.660004</td>\n",
       "      <td>182.800003</td>\n",
       "      <td>177.699997</td>\n",
       "      <td>179.550003</td>\n",
       "      <td>176.892197</td>\n",
       "      <td>41770000</td>\n",
       "    </tr>\n",
       "    <tr>\n",
       "      <th>5</th>\n",
       "      <td>2018-11-30</td>\n",
       "      <td>180.289993</td>\n",
       "      <td>180.330002</td>\n",
       "      <td>177.029999</td>\n",
       "      <td>178.580002</td>\n",
       "      <td>175.936554</td>\n",
       "      <td>39531500</td>\n",
       "    </tr>\n",
       "    <tr>\n",
       "      <th>6</th>\n",
       "      <td>2018-12-03</td>\n",
       "      <td>184.460007</td>\n",
       "      <td>184.940002</td>\n",
       "      <td>181.210007</td>\n",
       "      <td>184.820007</td>\n",
       "      <td>182.084183</td>\n",
       "      <td>40802500</td>\n",
       "    </tr>\n",
       "    <tr>\n",
       "      <th>7</th>\n",
       "      <td>2018-12-04</td>\n",
       "      <td>180.949997</td>\n",
       "      <td>182.389999</td>\n",
       "      <td>176.270004</td>\n",
       "      <td>176.690002</td>\n",
       "      <td>174.074539</td>\n",
       "      <td>41344300</td>\n",
       "    </tr>\n",
       "    <tr>\n",
       "      <th>8</th>\n",
       "      <td>2018-12-06</td>\n",
       "      <td>171.759995</td>\n",
       "      <td>174.779999</td>\n",
       "      <td>170.419998</td>\n",
       "      <td>174.720001</td>\n",
       "      <td>172.133682</td>\n",
       "      <td>43098400</td>\n",
       "    </tr>\n",
       "    <tr>\n",
       "      <th>9</th>\n",
       "      <td>2018-12-07</td>\n",
       "      <td>173.490005</td>\n",
       "      <td>174.490005</td>\n",
       "      <td>168.300003</td>\n",
       "      <td>168.490005</td>\n",
       "      <td>165.995926</td>\n",
       "      <td>42281600</td>\n",
       "    </tr>\n",
       "  </tbody>\n",
       "</table>\n",
       "</div>"
      ],
      "text/plain": [
       "         Date        Open        High         Low       Close   Adj Close  \\\n",
       "0  2018-11-23  174.940002  176.600006  172.100006  172.289993  169.739655   \n",
       "1  2018-11-26  174.240005  174.949997  170.259995  174.619995  172.035172   \n",
       "2  2018-11-27  171.509995  174.770004  170.880005  174.240005  171.660797   \n",
       "3  2018-11-28  176.729996  181.289993  174.929993  180.940002  178.261627   \n",
       "4  2018-11-29  182.660004  182.800003  177.699997  179.550003  176.892197   \n",
       "5  2018-11-30  180.289993  180.330002  177.029999  178.580002  175.936554   \n",
       "6  2018-12-03  184.460007  184.940002  181.210007  184.820007  182.084183   \n",
       "7  2018-12-04  180.949997  182.389999  176.270004  176.690002  174.074539   \n",
       "8  2018-12-06  171.759995  174.779999  170.419998  174.720001  172.133682   \n",
       "9  2018-12-07  173.490005  174.490005  168.300003  168.490005  165.995926   \n",
       "\n",
       "     Volume  \n",
       "0  23624000  \n",
       "1  44998500  \n",
       "2  41387400  \n",
       "3  46062500  \n",
       "4  41770000  \n",
       "5  39531500  \n",
       "6  40802500  \n",
       "7  41344300  \n",
       "8  43098400  \n",
       "9  42281600  "
      ]
     },
     "execution_count": 2,
     "metadata": {},
     "output_type": "execute_result"
    }
   ],
   "source": [
    "data=pd.read_csv(r\"C:\\Users\\manoj\\Downloads\\AAPL.csv\")\n",
    "data.head(10)"
   ]
  },
  {
   "cell_type": "code",
   "execution_count": 3,
   "metadata": {},
   "outputs": [
    {
     "name": "stdout",
     "output_type": "stream",
     "text": [
      "<class 'pandas.core.frame.DataFrame'>\n",
      "RangeIndex: 251 entries, 0 to 250\n",
      "Data columns (total 7 columns):\n",
      "Date         251 non-null object\n",
      "Open         251 non-null float64\n",
      "High         251 non-null float64\n",
      "Low          251 non-null float64\n",
      "Close        251 non-null float64\n",
      "Adj Close    251 non-null float64\n",
      "Volume       251 non-null int64\n",
      "dtypes: float64(5), int64(1), object(1)\n",
      "memory usage: 13.9+ KB\n"
     ]
    }
   ],
   "source": [
    "data.info()"
   ]
  },
  {
   "cell_type": "code",
   "execution_count": 4,
   "metadata": {},
   "outputs": [],
   "source": [
    "x=pd.to_numeric(data.Date.str.replace('-','')).values.reshape(-1,1)\n",
    "y=data[\"Open\"].values.reshape(-1,1)"
   ]
  },
  {
   "cell_type": "code",
   "execution_count": 5,
   "metadata": {},
   "outputs": [
    {
     "data": {
      "text/plain": [
       "(240, 1)"
      ]
     },
     "execution_count": 5,
     "metadata": {},
     "output_type": "execute_result"
    }
   ],
   "source": [
    "x_train=x[0:240]\n",
    "x_test=x[240:252]\n",
    "y_train=y[0:240]\n",
    "y_test=y[240:252]\n",
    "x_train.shape"
   ]
  },
  {
   "cell_type": "code",
   "execution_count": 6,
   "metadata": {},
   "outputs": [],
   "source": [
    "svr_lin = SVR(kernel= 'linear', C= 1)\n",
    "svr_rbf = SVR(kernel= 'rbf', C= 1, gamma= 0.1)"
   ]
  },
  {
   "cell_type": "code",
   "execution_count": 7,
   "metadata": {},
   "outputs": [
    {
     "data": {
      "text/plain": [
       "SVR(C=1, cache_size=200, coef0=0.0, degree=3, epsilon=0.1,\n",
       "    gamma='auto_deprecated', kernel='linear', max_iter=-1, shrinking=True,\n",
       "    tol=0.001, verbose=False)"
      ]
     },
     "execution_count": 7,
     "metadata": {},
     "output_type": "execute_result"
    }
   ],
   "source": [
    "svr_rbf.fit(x_train,y_train.ravel())\n",
    "svr_lin.fit(x_train,y_train.ravel())"
   ]
  },
  {
   "cell_type": "code",
   "execution_count": 8,
   "metadata": {},
   "outputs": [],
   "source": [
    "lin_pred=svr_lin.predict(x_test)\n",
    "rbf_pred=svr_rbf.predict(x_test)"
   ]
  },
  {
   "cell_type": "code",
   "execution_count": 9,
   "metadata": {},
   "outputs": [
    {
     "data": {
      "text/plain": [
       "array([[1.96891041e+08],\n",
       "       [1.96884076e+08],\n",
       "       [1.96863182e+08],\n",
       "       [1.96856217e+08],\n",
       "       [1.96849252e+08],\n",
       "       [1.96842287e+08],\n",
       "       [1.96835322e+08],\n",
       "       [1.96814426e+08],\n",
       "       [1.96807462e+08],\n",
       "       [1.96800497e+08],\n",
       "       [1.96793532e+08]])"
      ]
     },
     "execution_count": 9,
     "metadata": {},
     "output_type": "execute_result"
    }
   ],
   "source": [
    "lin_pred=lin_pred.reshape(-1,1)\n",
    "lin_pred"
   ]
  },
  {
   "cell_type": "code",
   "execution_count": 10,
   "metadata": {},
   "outputs": [
    {
     "data": {
      "text/plain": [
       "array([[198.39196067],\n",
       "       [197.66914263],\n",
       "       [196.49981052],\n",
       "       [196.41934724],\n",
       "       [196.39232206],\n",
       "       [196.38492036],\n",
       "       [196.38326432],\n",
       "       [196.38291043],\n",
       "       [196.38290987],\n",
       "       [196.38290982],\n",
       "       [196.38290982]])"
      ]
     },
     "execution_count": 10,
     "metadata": {},
     "output_type": "execute_result"
    }
   ],
   "source": [
    "rbf_pred=rbf_pred.reshape(-1,1)\n",
    "rbf_pred"
   ]
  },
  {
   "cell_type": "code",
   "execution_count": 11,
   "metadata": {},
   "outputs": [
    {
     "data": {
      "image/png": "[encoded data removed]",
      "text/plain": [
       "<Figure size 432x288 with 1 Axes>"
      ]
     },
     "metadata": {
      "needs_background": "light"
     },
     "output_type": "display_data"
    }
   ],
   "source": [
    "plt.scatter(x, y, color= 'black', label= 'Data') \n",
    "plt.plot(x_test,rbf_pred, color= 'red', label= 'RBF model')\n",
    "plt.plot(x_test,lin_pred, color= 'green', label= 'Linear model') \n",
    "plt.xlabel('Date')\n",
    "plt.ylabel('Price')\n",
    "plt.title('Support Vector Regression')\n",
    "plt.legend()\n",
    "plt.show()\n"
   ]
  },
  {
   "cell_type": "code",
   "execution_count": 12,
   "metadata": {},
   "outputs": [
    {
     "data": {
      "text/plain": [
       "-4154470958683966.0"
      ]
     },
     "execution_count": 12,
     "metadata": {},
     "output_type": "execute_result"
    }
   ],
   "source": [
    "svr_lin.score(x_test,y_test)"
   ]
  },
  {
   "cell_type": "code",
   "execution_count": 13,
   "metadata": {},
   "outputs": [
    {
     "name": "stdout",
     "output_type": "stream",
     "text": [
      "Root mean square error linear kernel is 196839493.5816711\n"
     ]
    }
   ],
   "source": [
    "print(\"Root mean square error linear kernel is\",sqrt(mean_squared_error(lin_pred,y_test)))"
   ]
  },
  {
   "cell_type": "code",
   "execution_count": 14,
   "metadata": {},
   "outputs": [
    {
     "name": "stdout",
     "output_type": "stream",
     "text": [
      "Root mean square error rbf kernel is 66.01028602190055\n"
     ]
    }
   ],
   "source": [
    "print(\"Root mean square error rbf kernel is\",sqrt(mean_squared_error(rbf_pred,y_test)))"
   ]
  },
  {
   "cell_type": "markdown",
   "metadata": {},
   "source": [
    "![alt text](https://i.kym-cdn.com/entries/icons/original/000/029/959/Screen_Shot_2019-06-05_at_1.26.32_PM.jpg)\n",
    "\n",
    "#RBF kernel works better at stock price prediction "
   ]
  },
  {
   "cell_type": "code",
   "execution_count": null,
   "metadata": {},
   "outputs": [],
   "source": []
  }
 ],
 "metadata": {
  "kernelspec": {
   "display_name": "Python 3",
   "language": "python",
   "name": "python3"
  },
  "language_info": {
   "codemirror_mode": {
    "name": "ipython",
    "version": 3
   },
   "file_extension": ".py",
   "mimetype": "text/x-python",
   "name": "python",
   "nbconvert_exporter": "python",
   "pygments_lexer": "ipython3",
   "version": "3.7.5"
  }
 },
 "nbformat": 4,
 "nbformat_minor": 2
}
